{
 "cells": [
  {
   "cell_type": "markdown",
   "id": "82f6fdf8",
   "metadata": {},
   "source": [
    "This file is just designed to test some simple code for doing the required sum numerically versus analytically. I can then write these into a python function and import into another jupyter notebook for more complicated plots."
   ]
  },
  {
   "cell_type": "code",
   "execution_count": 1,
   "id": "816e9fd8",
   "metadata": {},
   "outputs": [],
   "source": [
    "# Borrow a lot of functions from Dissertation Code in 2020Iteration.\n",
    "import numpy as np\n",
    "import pandas as pd\n",
    "from scipy.optimize import fsolve\n",
    "from scipy import integrate"
   ]
  },
  {
   "cell_type": "code",
   "execution_count": 2,
   "id": "48e04b69",
   "metadata": {},
   "outputs": [],
   "source": [
    "# These functions are needed to express the sum over R and nR analytically.\n",
    "def R(n,e,l,s):\n",
    "    '''Unnormalized struture function for METE.\n",
    "    n,e are microscopic variables.\n",
    "    l are lambdas\n",
    "    s are state variables, call S, N, or E'''\n",
    "    return np.exp(-l[0]*n-l[1]*n*e)\n",
    "\n",
    "def Rsum(e,l,s):\n",
    "    '''Unnormalized struture function for METE, summed over n.\n",
    "    e is a microscopic variable.\n",
    "    l are lambdas\n",
    "    s are state variables, call S, N, or E'''\n",
    "    # Define exponent for lambdas 1-2\n",
    "    l12 = l[0]+l[1]*e\n",
    "    num = np.exp(-l12) - np.exp(-l12*(s['N']+1))\n",
    "    denom = 1 - np.exp(-l12)\n",
    "    return num/denom\n",
    "\n",
    "def nRsum(e,l,s):\n",
    "    '''Unnormalized struture function for METE multiplied by n, then summed over n. \n",
    "    e is a microscopic variable.\n",
    "    l are lambdas\n",
    "    s are state variables, call S, N, or E'''\n",
    "    # Define exponent for lambdas 1-2, with n=1 since we've done sum over n already.\n",
    "    l12 = l[0]+l[1]*e\n",
    "    # Split up to make it easier\n",
    "    num = np.exp(-l12)-(s['N']+1)*np.exp(-l12*(s['N']+1))+s['N']*np.exp(-l12*(s['N']+2))\n",
    "    denom = (1-np.exp(-l12))**2\n",
    "    return num/denom\n",
    "\n",
    "def zfun(l,s):\n",
    "    '''Calculate partition function for DynaMETE. \n",
    "    This function uses the analytic sum from Rsum and single integral over e.\n",
    "    The integral is done with quad over log e.\n",
    "    l are lambdas\n",
    "    s are state variables, call S, N, or E'''\n",
    "    # Return only value not error\n",
    "    return integrate.quad(lambda loge: np.exp(loge)*Rsum(np.exp(loge),l,s),0,np.log(s['E']))[0]\n",
    "\n",
    "def constraints(l,s):\n",
    "    '''This function takes in lambdas and state variables and tests the constraints numerically.\n",
    "    The return is an array with the percent deviation from the exact constraint.'''\n",
    "    # First get the normalization\n",
    "    z = zfun(l,s)\n",
    "    # Now we need the sum over n and ne\n",
    "    nR = integrate.quad(lambda loge: np.exp(loge)*nRsum(np.exp(loge),l,s),0,np.log(s['E']))[0]\n",
    "    neR = integrate.quad(lambda loge: np.exp(loge*2)*nRsum(np.exp(loge),l,s),0,np.log(s['E']))[0]\n",
    "    # Normalize\n",
    "    nR /= z\n",
    "    neR /= z\n",
    "    # Now get the exact values\n",
    "    ns = s['N']/s['S']\n",
    "    es = s['E']/s['S']\n",
    "    # Now return percent difference\n",
    "    return np.array([(nR-ns)/ns,(neR-es)/es])"
   ]
  },
  {
   "cell_type": "code",
   "execution_count": 3,
   "id": "6854951f",
   "metadata": {},
   "outputs": [],
   "source": [
    "# METE functions\n",
    "def beta_constraint(b,s):\n",
    "    '''This is the beta constraint in METE with give state variables. Use this as a function call to get beta.\n",
    "    Inputs s as state variables, call S, N, or Es\n",
    "    Also inputs beta\n",
    "    outputs beta constraint to minimize'''\n",
    "    # Generate n array up to N\n",
    "    narr = np.arange(s['N'])+1\n",
    "    # This is the better constraint condition to use\n",
    "    return np.exp(-narr*b).sum()/(np.exp(-narr*b)/narr).sum() - s['N']/s['S']\n",
    "    # Old constraint\n",
    "    #return b*np.log(1/(1-np.exp(-b)))-s['S']/s['N'] #Old\n",
    "\n",
    "def mete_lambdas(s,b0=0.0001,thresh=0.05):\n",
    "    '''This returns the METE lambdas for a given set of state variables.\n",
    "    Inputs s as state variables, call S, N, or E\n",
    "    Optional input of an initial beta, if we know it's going to be somewhere other than small positive.\n",
    "    outputs array of lambdas\n",
    "    Also checks to see if conditions are actually satisfied, and outputs a warning if the percent difference\n",
    "    of the result is greater than 5% (by default)\n",
    "    This can be modified to exclude this test by setting thresh to False, or changing it to a difference percent'''\n",
    "    beta = fsolve(beta_constraint,b0,args=s)[0]\n",
    "    l2 = s['S']/(s['E']-s['N']) \n",
    "    ls = np.array([beta-l2,l2]) # Only 2 compared to 5 from dynamete\n",
    "    if thresh:\n",
    "        con = constraints(ls,s)\n",
    "        if np.any(con > thresh):\n",
    "            print(\"Constraints are not satisfied within {:.0f}%\".format(thresh*100))\n",
    "    return ls"
   ]
  },
  {
   "cell_type": "code",
   "execution_count": 4,
   "id": "b6ceaedb",
   "metadata": {},
   "outputs": [],
   "source": [
    "# Define biomass equations\n",
    "def biomass(s,power=4/3):\n",
    "    '''Take in state variables and numerically calculate the biomass.\n",
    "    This is the equivalent of B = S Sum_n n e^(power) R \n",
    "    This function uses th exact sum over n and then does the integral over e^(power)\n",
    "    The power is by default 4/3, but can be changed if we want to test other scaling relationships\n",
    "    The lambdas are calculated using the function mete_lambdas above, which are approximate, \n",
    "    but should be good for most realistic state variables. The state variables should be given as a pandas Series\n",
    "    s are state variables, call S, N, or E\n",
    "    power is by default 4/3, but can be changed to test other scaling relationships\n",
    "    '''\n",
    "    # get METE lambdas\n",
    "    l = mete_lambdas(s)\n",
    "    # Get normalization\n",
    "    z = zfun(l,s)\n",
    "    # Do the required integral in log space\n",
    "    b = s['S']*integrate.quad(lambda loge: np.exp((power+1)*loge)*nRsum(np.exp(loge),l,s),0,np.log(s['E']))[0]\n",
    "    # Normalize and return\n",
    "    return b/z\n",
    "\n",
    "def biomass_approx(s,order=0):\n",
    "    '''The approximation for the biomass equation with power=4/3'''\n",
    "    # Get mete lambdas\n",
    "    l = mete_lambdas(s)\n",
    "    b = 4.17*s['E']**(4/3)/(s['S']**(1/3)*np.log(1/l.sum()))\n",
    "    if order == 1:\n",
    "        b *= (1-1.16*l.sum()**(1/3))\n",
    "    return b"
   ]
  },
  {
   "cell_type": "code",
   "execution_count": 5,
   "id": "e0a6826e",
   "metadata": {},
   "outputs": [],
   "source": [
    "# Set up some state variables\n",
    "bci = pd.Series([305,229000,18980000],index=['S','N','E'])\n",
    "cocoli = pd.Series([154,6823,1269000],index=['S','N','E'])\n",
    "sherman = pd.Series([200,8249,943400],index=['S','N','E'])\n",
    "pasoh = pd.Series([717,321500,18750000],index=['S','N','E'])"
   ]
  },
  {
   "cell_type": "code",
   "execution_count": 8,
   "id": "7ba37dde",
   "metadata": {},
   "outputs": [
    {
     "name": "stdout",
     "output_type": "stream",
     "text": [
      "[1.35148803e-04 1.62657992e-05] 0.00015141460246288513\n",
      "540739.76896557\n"
     ]
    }
   ],
   "source": [
    "bci_l = mete_lambdas(bci)\n",
    "print(bci_l,bci_l.sum())\n",
    "print(zfun(bci_l,bci))"
   ]
  },
  {
   "cell_type": "code",
   "execution_count": 96,
   "id": "28fc0fb0",
   "metadata": {},
   "outputs": [
    {
     "name": "stdout",
     "output_type": "stream",
     "text": [
      "339860219.5120361\n",
      "16314272.189761357\n",
      "10136007.347042764\n",
      "264252252.71365649\n"
     ]
    }
   ],
   "source": [
    "# Print numerical biomasses\n",
    "print(biomass(bci))\n",
    "print(biomass(cocoli))\n",
    "print(biomass(sherman))\n",
    "print(biomass(pasoh))\n",
    "# John gets 266600000, 21920000, 10760000, 219100000"
   ]
  },
  {
   "cell_type": "code",
   "execution_count": 97,
   "id": "a4000202",
   "metadata": {},
   "outputs": [
    {
     "name": "stdout",
     "output_type": "stream",
     "text": [
      "356591571.7073797\n",
      "19440863.71688893\n",
      "12194047.469050158\n",
      "282629183.7628088\n"
     ]
    }
   ],
   "source": [
    "# Print zero order biomasses\n",
    "print(biomass_approx(bci))\n",
    "print(biomass_approx(cocoli))\n",
    "print(biomass_approx(sherman))\n",
    "print(biomass_approx(pasoh))\n",
    "# John gets 266600000, 21920000, 10760000, 219100000"
   ]
  },
  {
   "cell_type": "code",
   "execution_count": 98,
   "id": "3ec34bbe",
   "metadata": {},
   "outputs": [
    {
     "name": "stdout",
     "output_type": "stream",
     "text": [
      "334544462.6577241\n",
      "15832810.10039418\n",
      "9864067.001324829\n",
      "261398651.49053353\n"
     ]
    }
   ],
   "source": [
    "# Print first order biomasses\n",
    "print(biomass_approx(bci,order=1))\n",
    "print(biomass_approx(cocoli,order=1))\n",
    "print(biomass_approx(sherman,order=1))\n",
    "print(biomass_approx(pasoh,order=1))\n",
    "# John gets 266600000, 21920000, 10760000, 219100000"
   ]
  },
  {
   "cell_type": "code",
   "execution_count": 22,
   "id": "2da07ccf",
   "metadata": {},
   "outputs": [
    {
     "name": "stdout",
     "output_type": "stream",
     "text": [
      "[-0.00089034  0.001     ]\n",
      "[3.30828698e-14 1.44382284e-14]\n",
      "719255.5596436256\n",
      "1.6022197774648073\n"
     ]
    }
   ],
   "source": [
    "# Testing a hypothetical gut dataset\n",
    "gut = pd.Series([100,100000,200000],index=['S','N','E'])\n",
    "gutl = mete_lambdas(gut)\n",
    "print(gutl)\n",
    "print(constraints(gutl,gut))\n",
    "print(biomass(gut))\n",
    "print(biomass_approx(gut)/biomass(gut))"
   ]
  },
  {
   "cell_type": "code",
   "execution_count": 33,
   "id": "84fa7078",
   "metadata": {},
   "outputs": [
    {
     "name": "stdout",
     "output_type": "stream",
     "text": [
      "80289287.3554087 51719493.35372385\n",
      "12268.617531785934\n",
      "654428.1549848025\n"
     ]
    }
   ],
   "source": [
    "# Using John's method\n",
    "john_gutl = np.array([-0.000493,0.0008]) # This is what John has in the spreasheet\n",
    "erange = np.arange(200000)+1\n",
    "neR_gut_sum = (erange**(4/3)*nRsum(erange,john_gutl,gut)).sum()\n",
    "neR_gut_int = integrate.quad(lambda loge: np.exp((4/3+1)*loge)*nRsum(np.exp(loge),gutl,gut),0,np.log(gut['E']))[0]\n",
    "print(neR_gut_sum,neR_gut_int)\n",
    "z_gut = Rsum(erange,john_gutl,gut).sum()\n",
    "print(z_gut)\n",
    "b_gut = gut['S']*neR_gut_sum/z_gut\n",
    "print(b_gut)"
   ]
  },
  {
   "cell_type": "code",
   "execution_count": 38,
   "id": "0bb5bbab",
   "metadata": {},
   "outputs": [],
   "source": [
    "# Test with actual data table I created\n",
    "data = pd.read_csv('data_statevariables.txt')"
   ]
  },
  {
   "cell_type": "code",
   "execution_count": 53,
   "id": "6040ffef",
   "metadata": {},
   "outputs": [],
   "source": [
    "# This is bad practice but we are doing it\n",
    "# More info here:     https://stackoverflow.com/questions/16476924/how-to-iterate-over-rows-in-a-dataframe-in-pandas\n",
    "data['B'] = np.zeros(len(data))\n",
    "for index, row in data.iterrows():\n",
    "    data.loc[index,'B'] = biomass(row)"
   ]
  },
  {
   "cell_type": "code",
   "execution_count": 54,
   "id": "496fa3c4",
   "metadata": {},
   "outputs": [
    {
     "data": {
      "text/html": [
       "<div>\n",
       "<style scoped>\n",
       "    .dataframe tbody tr th:only-of-type {\n",
       "        vertical-align: middle;\n",
       "    }\n",
       "\n",
       "    .dataframe tbody tr th {\n",
       "        vertical-align: top;\n",
       "    }\n",
       "\n",
       "    .dataframe thead th {\n",
       "        text-align: right;\n",
       "    }\n",
       "</style>\n",
       "<table border=\"1\" class=\"dataframe\">\n",
       "  <thead>\n",
       "    <tr style=\"text-align: right;\">\n",
       "      <th></th>\n",
       "      <th>site</th>\n",
       "      <th>S</th>\n",
       "      <th>N</th>\n",
       "      <th>E</th>\n",
       "      <th>B</th>\n",
       "    </tr>\n",
       "  </thead>\n",
       "  <tbody>\n",
       "    <tr>\n",
       "      <th>0</th>\n",
       "      <td>bci</td>\n",
       "      <td>305</td>\n",
       "      <td>229000</td>\n",
       "      <td>19750000</td>\n",
       "      <td>3.585610e+08</td>\n",
       "    </tr>\n",
       "    <tr>\n",
       "      <th>1</th>\n",
       "      <td>cocoli</td>\n",
       "      <td>154</td>\n",
       "      <td>6823</td>\n",
       "      <td>1269000</td>\n",
       "      <td>1.631427e+07</td>\n",
       "    </tr>\n",
       "    <tr>\n",
       "      <th>2</th>\n",
       "      <td>sherman</td>\n",
       "      <td>200</td>\n",
       "      <td>8249</td>\n",
       "      <td>943400</td>\n",
       "      <td>1.013601e+07</td>\n",
       "    </tr>\n",
       "    <tr>\n",
       "      <th>3</th>\n",
       "      <td>pasoh</td>\n",
       "      <td>802</td>\n",
       "      <td>321539</td>\n",
       "      <td>20452000</td>\n",
       "      <td>2.898457e+08</td>\n",
       "    </tr>\n",
       "    <tr>\n",
       "      <th>4</th>\n",
       "      <td>ucsc</td>\n",
       "      <td>31</td>\n",
       "      <td>8376</td>\n",
       "      <td>9001000</td>\n",
       "      <td>3.043935e+08</td>\n",
       "    </tr>\n",
       "    <tr>\n",
       "      <th>5</th>\n",
       "      <td>vision</td>\n",
       "      <td>27</td>\n",
       "      <td>1844</td>\n",
       "      <td>3004000</td>\n",
       "      <td>8.718301e+07</td>\n",
       "    </tr>\n",
       "    <tr>\n",
       "      <th>6</th>\n",
       "      <td>bayview</td>\n",
       "      <td>16</td>\n",
       "      <td>486</td>\n",
       "      <td>406800</td>\n",
       "      <td>8.007665e+06</td>\n",
       "    </tr>\n",
       "    <tr>\n",
       "      <th>7</th>\n",
       "      <td>subalpine</td>\n",
       "      <td>31</td>\n",
       "      <td>877</td>\n",
       "      <td>917900</td>\n",
       "      <td>1.928997e+07</td>\n",
       "    </tr>\n",
       "    <tr>\n",
       "      <th>8</th>\n",
       "      <td>volcano</td>\n",
       "      <td>167</td>\n",
       "      <td>1909</td>\n",
       "      <td>88120</td>\n",
       "      <td>5.433881e+05</td>\n",
       "    </tr>\n",
       "    <tr>\n",
       "      <th>9</th>\n",
       "      <td>lanai</td>\n",
       "      <td>123</td>\n",
       "      <td>2253</td>\n",
       "      <td>41210</td>\n",
       "      <td>1.979027e+05</td>\n",
       "    </tr>\n",
       "    <tr>\n",
       "      <th>10</th>\n",
       "      <td>kohala</td>\n",
       "      <td>240</td>\n",
       "      <td>6048</td>\n",
       "      <td>87170</td>\n",
       "      <td>4.047878e+05</td>\n",
       "    </tr>\n",
       "    <tr>\n",
       "      <th>11</th>\n",
       "      <td>molokai</td>\n",
       "      <td>178</td>\n",
       "      <td>3865</td>\n",
       "      <td>102200</td>\n",
       "      <td>5.806227e+05</td>\n",
       "    </tr>\n",
       "    <tr>\n",
       "      <th>12</th>\n",
       "      <td>kauai</td>\n",
       "      <td>158</td>\n",
       "      <td>1922</td>\n",
       "      <td>46470</td>\n",
       "      <td>2.300655e+05</td>\n",
       "    </tr>\n",
       "    <tr>\n",
       "      <th>13</th>\n",
       "      <td>invertebrates</td>\n",
       "      <td>11</td>\n",
       "      <td>414</td>\n",
       "      <td>2541</td>\n",
       "      <td>8.666407e+03</td>\n",
       "    </tr>\n",
       "  </tbody>\n",
       "</table>\n",
       "</div>"
      ],
      "text/plain": [
       "             site    S       N         E             B\n",
       "0             bci  305  229000  19750000  3.585610e+08\n",
       "1          cocoli  154    6823   1269000  1.631427e+07\n",
       "2         sherman  200    8249    943400  1.013601e+07\n",
       "3           pasoh  802  321539  20452000  2.898457e+08\n",
       "4            ucsc   31    8376   9001000  3.043935e+08\n",
       "5          vision   27    1844   3004000  8.718301e+07\n",
       "6         bayview   16     486    406800  8.007665e+06\n",
       "7       subalpine   31     877    917900  1.928997e+07\n",
       "8         volcano  167    1909     88120  5.433881e+05\n",
       "9           lanai  123    2253     41210  1.979027e+05\n",
       "10         kohala  240    6048     87170  4.047878e+05\n",
       "11        molokai  178    3865    102200  5.806227e+05\n",
       "12          kauai  158    1922     46470  2.300655e+05\n",
       "13  invertebrates   11     414      2541  8.666407e+03"
      ]
     },
     "execution_count": 54,
     "metadata": {},
     "output_type": "execute_result"
    }
   ],
   "source": [
    "data"
   ]
  },
  {
   "cell_type": "code",
   "execution_count": null,
   "id": "ca667156",
   "metadata": {},
   "outputs": [],
   "source": []
  }
 ],
 "metadata": {
  "kernelspec": {
   "display_name": "Python 3",
   "language": "python",
   "name": "python3"
  },
  "language_info": {
   "codemirror_mode": {
    "name": "ipython",
    "version": 3
   },
   "file_extension": ".py",
   "mimetype": "text/x-python",
   "name": "python",
   "nbconvert_exporter": "python",
   "pygments_lexer": "ipython3",
   "version": "3.6.13"
  }
 },
 "nbformat": 4,
 "nbformat_minor": 5
}
