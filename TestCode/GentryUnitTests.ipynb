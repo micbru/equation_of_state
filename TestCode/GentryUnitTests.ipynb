{
 "cells": [
  {
   "cell_type": "markdown",
   "id": "f5d7d874",
   "metadata": {},
   "source": [
    "This file will get the state variables and lambdas for the two gentry plots Erica sent, so that we can be sure state variables are being calculated correctly across the board."
   ]
  },
  {
   "cell_type": "code",
   "execution_count": 29,
   "id": "3eb2c358",
   "metadata": {},
   "outputs": [],
   "source": [
    "import numpy as np\n",
    "import pandas as pd\n",
    "import biomass as bm"
   ]
  },
  {
   "cell_type": "code",
   "execution_count": 30,
   "id": "66c099a5",
   "metadata": {},
   "outputs": [],
   "source": [
    "dr = 'GentryUnitTests/'\n",
    "df1 = pd.read_csv(dr+'ACHUPALL_IPD.csv')\n",
    "df2 = pd.read_csv(dr+'YANAMTAH_IPD.csv')\n",
    "# Strip off end of species identity with M code\n",
    "df1['spp'] = df1['spp'].str.rstrip('M1234567890 ')\n",
    "df2['spp'] = df2['spp'].str.rstrip('M1234567890 ')"
   ]
  },
  {
   "cell_type": "code",
   "execution_count": 31,
   "id": "efa332ad",
   "metadata": {},
   "outputs": [],
   "source": [
    "# Store state variables\n",
    "ids = ['Achupall','Yanamtah']\n",
    "states = pd.DataFrame(index=['Achupall','Yanamtah'],columns=['S','N','E','B','ls','beta'])"
   ]
  },
  {
   "cell_type": "code",
   "execution_count": 32,
   "id": "1e86b6f4",
   "metadata": {},
   "outputs": [],
   "source": [
    "# Get S\n",
    "states.loc['Achupall','S'] = df1['spp'].nunique()\n",
    "states.loc['Yanamtah','S'] = df2['spp'].nunique()\n",
    "# Get N. As far as I can tell, count is always one, so this should be the same as len\n",
    "states.loc['Achupall','N'] = df1['count'].sum()\n",
    "states.loc['Yanamtah','N'] = df2['count'].sum()\n",
    "# Get metabolic rates\n",
    "df1['e'] = df1['dbh']**2/min(df1['dbh']**2)\n",
    "df2['e'] = df2['dbh']**2/min(df2['dbh']**2)\n",
    "# Get E\n",
    "states.loc['Achupall','E'] = df1['e'].sum()\n",
    "states.loc['Yanamtah','E'] = df2['e'].sum()\n",
    "# Get B\n",
    "states.loc['Achupall','B'] = (df1['e']**(4/3)).sum()#bm.biomass(states.loc['Achupall']) # This is theoretical\n",
    "states.loc['Yanamtah','B'] = (df2['e']**(4/3)).sum()#bm.biomass(states.loc['Yanamtah']) # This is theoretical\n",
    "# Get lambdas\n",
    "states.loc['Achupall','ls'] = bm.mete_lambdas(states.loc['Achupall'])\n",
    "states.loc['Yanamtah','ls'] = bm.mete_lambdas(states.loc['Yanamtah'])\n",
    "# Get beta\n",
    "states.loc['Achupall','beta'] = bm.mete_lambdas(states.loc['Achupall']).sum()\n",
    "states.loc['Yanamtah','beta'] = bm.mete_lambdas(states.loc['Yanamtah']).sum()"
   ]
  },
  {
   "cell_type": "code",
   "execution_count": 39,
   "id": "b355b074",
   "metadata": {
    "scrolled": true
   },
   "outputs": [
    {
     "data": {
      "text/html": [
       "<div>\n",
       "<style scoped>\n",
       "    .dataframe tbody tr th:only-of-type {\n",
       "        vertical-align: middle;\n",
       "    }\n",
       "\n",
       "    .dataframe tbody tr th {\n",
       "        vertical-align: top;\n",
       "    }\n",
       "\n",
       "    .dataframe thead th {\n",
       "        text-align: right;\n",
       "    }\n",
       "</style>\n",
       "<table border=\"1\" class=\"dataframe\">\n",
       "  <thead>\n",
       "    <tr style=\"text-align: right;\">\n",
       "      <th></th>\n",
       "      <th>S</th>\n",
       "      <th>N</th>\n",
       "      <th>E</th>\n",
       "      <th>B</th>\n",
       "      <th>ls</th>\n",
       "      <th>beta</th>\n",
       "    </tr>\n",
       "  </thead>\n",
       "  <tbody>\n",
       "    <tr>\n",
       "      <th>Achupall</th>\n",
       "      <td>43</td>\n",
       "      <td>441</td>\n",
       "      <td>7469.56</td>\n",
       "      <td>34963.8</td>\n",
       "      <td>[0.020255444851130802, 0.006117899995257443]</td>\n",
       "      <td>0.0263733</td>\n",
       "    </tr>\n",
       "    <tr>\n",
       "      <th>Yanamtah</th>\n",
       "      <td>142</td>\n",
       "      <td>406</td>\n",
       "      <td>18121.6</td>\n",
       "      <td>201809</td>\n",
       "      <td>[0.16692282770018674, 0.008015552429615548]</td>\n",
       "      <td>0.174938</td>\n",
       "    </tr>\n",
       "  </tbody>\n",
       "</table>\n",
       "</div>"
      ],
      "text/plain": [
       "            S    N        E        B  \\\n",
       "Achupall   43  441  7469.56  34963.8   \n",
       "Yanamtah  142  406  18121.6   201809   \n",
       "\n",
       "                                                    ls       beta  \n",
       "Achupall  [0.020255444851130802, 0.006117899995257443]  0.0263733  \n",
       "Yanamtah   [0.16692282770018674, 0.008015552429615548]   0.174938  "
      ]
     },
     "execution_count": 39,
     "metadata": {},
     "output_type": "execute_result"
    }
   ],
   "source": [
    "states"
   ]
  },
  {
   "cell_type": "code",
   "execution_count": 34,
   "id": "021bc9e8",
   "metadata": {},
   "outputs": [
    {
     "name": "stdout",
     "output_type": "stream",
     "text": [
      "[5.19614586e-16 3.27230582e-16]\n",
      "[2.48514947e-15 0.00000000e+00]\n"
     ]
    }
   ],
   "source": [
    "# Are the constraints ok?\n",
    "for i in ids:\n",
    "    print(bm.constraints(states.loc[i,'ls'],states.loc[i]))"
   ]
  },
  {
   "cell_type": "code",
   "execution_count": null,
   "id": "233b426f",
   "metadata": {},
   "outputs": [],
   "source": []
  }
 ],
 "metadata": {
  "kernelspec": {
   "display_name": "Python 3",
   "language": "python",
   "name": "python3"
  },
  "language_info": {
   "codemirror_mode": {
    "name": "ipython",
    "version": 3
   },
   "file_extension": ".py",
   "mimetype": "text/x-python",
   "name": "python",
   "nbconvert_exporter": "python",
   "pygments_lexer": "ipython3",
   "version": "3.6.13"
  }
 },
 "nbformat": 4,
 "nbformat_minor": 5
}
