{
 "cells": [
  {
   "cell_type": "markdown",
   "id": "7fb41c4e",
   "metadata": {},
   "source": [
    "This notebook is intended to show how to get biomasses from state variable data using the python code biomass.py"
   ]
  },
  {
   "cell_type": "code",
   "execution_count": 2,
   "id": "37284a5b",
   "metadata": {},
   "outputs": [],
   "source": [
    "import numpy as np\n",
    "import pandas as pd\n",
    "import biomass as bm"
   ]
  },
  {
   "cell_type": "code",
   "execution_count": 2,
   "id": "320b1049",
   "metadata": {},
   "outputs": [],
   "source": [
    "# If ever lost, all code is documented. Call\n",
    "?bm.biomass()\n",
    "# OR\n",
    "#?bm.biomass_approx()"
   ]
  },
  {
   "cell_type": "code",
   "execution_count": 3,
   "id": "b1a02074",
   "metadata": {},
   "outputs": [
    {
     "name": "stdout",
     "output_type": "stream",
     "text": [
      "Biomass (numerical): 1380094\n",
      "Biomass (0th order): 1623111\n",
      "Biomass (1st order): 1405529\n"
     ]
    }
   ],
   "source": [
    "# How to use with a single dataset.\n",
    "# Create a panda series with S, N, and E\n",
    "test = pd.Series([100,10000,200000],index=['S','N','E'])\n",
    "# Now simply call the biomass function\n",
    "test_bm = bm.biomass(test)\n",
    "# Can also call the analytic approximations\n",
    "# First 0th order\n",
    "test_bm0 = bm.biomass_approx(test,order=0) # calling order is optional here; order=0 by default\n",
    "# Now 1st order\n",
    "test_bm1 = bm.biomass_approx(test,order=1)\n",
    "\n",
    "# Now print these\n",
    "print(\"Biomass (numerical): {:.0f}\".format(test_bm))\n",
    "print(\"Biomass (0th order): {:.0f}\".format(test_bm0))\n",
    "print(\"Biomass (1st order): {:.0f}\".format(test_bm1))"
   ]
  },
  {
   "cell_type": "code",
   "execution_count": 4,
   "id": "ef822d06",
   "metadata": {},
   "outputs": [],
   "source": [
    "# Now how to use if we have a csv with state variable information\n",
    "# Import the data\n",
    "data = pd.read_csv('data_statevariables.txt')"
   ]
  },
  {
   "cell_type": "code",
   "execution_count": 5,
   "id": "777700e9",
   "metadata": {},
   "outputs": [],
   "source": [
    "# Now add a column for numerical biomass data, and the approximations.\n",
    "# The \"p\" indicates predicted, num is numerical, and 0 and 1 indicate the 0th and first order approximations.\n",
    "# Note: Iterating through like this is actually bad practice for pandas, but this dataset is small, so it's fine\n",
    "data['pBnum'] = np.zeros(len(data))\n",
    "data['pB0'] = np.zeros(len(data))\n",
    "data['pB1'] = np.zeros(len(data))\n",
    "# Iterate through each row and append the biomass information\n",
    "for index, row in data.iterrows():\n",
    "    data.loc[index,'pBnum'] = bm.biomass(row)\n",
    "    data.loc[index,'pB0'] = bm.biomass_approx(row)\n",
    "    data.loc[index,'pB1'] = bm.biomass_approx(row,order=1)"
   ]
  },
  {
   "cell_type": "code",
   "execution_count": 6,
   "id": "8ef82449",
   "metadata": {},
   "outputs": [
    {
     "data": {
      "text/html": [
       "<div>\n",
       "<style scoped>\n",
       "    .dataframe tbody tr th:only-of-type {\n",
       "        vertical-align: middle;\n",
       "    }\n",
       "\n",
       "    .dataframe tbody tr th {\n",
       "        vertical-align: top;\n",
       "    }\n",
       "\n",
       "    .dataframe thead th {\n",
       "        text-align: right;\n",
       "    }\n",
       "</style>\n",
       "<table border=\"1\" class=\"dataframe\">\n",
       "  <thead>\n",
       "    <tr style=\"text-align: right;\">\n",
       "      <th></th>\n",
       "      <th>site</th>\n",
       "      <th>S</th>\n",
       "      <th>N</th>\n",
       "      <th>E</th>\n",
       "      <th>B</th>\n",
       "      <th>pBnum</th>\n",
       "      <th>pB0</th>\n",
       "      <th>pB1</th>\n",
       "    </tr>\n",
       "  </thead>\n",
       "  <tbody>\n",
       "    <tr>\n",
       "      <th>0</th>\n",
       "      <td>bci</td>\n",
       "      <td>305</td>\n",
       "      <td>229000</td>\n",
       "      <td>19750000</td>\n",
       "      <td>266500000</td>\n",
       "      <td>3.585610e+08</td>\n",
       "      <td>3.760096e+08</td>\n",
       "      <td>3.527619e+08</td>\n",
       "    </tr>\n",
       "    <tr>\n",
       "      <th>1</th>\n",
       "      <td>cocoli</td>\n",
       "      <td>154</td>\n",
       "      <td>6823</td>\n",
       "      <td>1269000</td>\n",
       "      <td>21920000</td>\n",
       "      <td>1.631427e+07</td>\n",
       "      <td>1.944086e+07</td>\n",
       "      <td>1.583281e+07</td>\n",
       "    </tr>\n",
       "    <tr>\n",
       "      <th>2</th>\n",
       "      <td>sherman</td>\n",
       "      <td>200</td>\n",
       "      <td>8249</td>\n",
       "      <td>943400</td>\n",
       "      <td>10760000</td>\n",
       "      <td>1.013601e+07</td>\n",
       "      <td>1.219405e+07</td>\n",
       "      <td>9.864067e+06</td>\n",
       "    </tr>\n",
       "    <tr>\n",
       "      <th>3</th>\n",
       "      <td>pasoh</td>\n",
       "      <td>802</td>\n",
       "      <td>321539</td>\n",
       "      <td>20452000</td>\n",
       "      <td>220647000</td>\n",
       "      <td>2.898457e+08</td>\n",
       "      <td>3.105346e+08</td>\n",
       "      <td>2.861948e+08</td>\n",
       "    </tr>\n",
       "    <tr>\n",
       "      <th>4</th>\n",
       "      <td>ucsc</td>\n",
       "      <td>31</td>\n",
       "      <td>8376</td>\n",
       "      <td>9001000</td>\n",
       "      <td>193300000</td>\n",
       "      <td>3.043935e+08</td>\n",
       "      <td>3.247696e+08</td>\n",
       "      <td>2.953824e+08</td>\n",
       "    </tr>\n",
       "    <tr>\n",
       "      <th>5</th>\n",
       "      <td>vision</td>\n",
       "      <td>27</td>\n",
       "      <td>1844</td>\n",
       "      <td>3004000</td>\n",
       "      <td>107490000</td>\n",
       "      <td>8.718301e+07</td>\n",
       "      <td>9.984000e+07</td>\n",
       "      <td>8.434560e+07</td>\n",
       "    </tr>\n",
       "    <tr>\n",
       "      <th>6</th>\n",
       "      <td>bayview</td>\n",
       "      <td>16</td>\n",
       "      <td>486</td>\n",
       "      <td>406800</td>\n",
       "      <td>7642000</td>\n",
       "      <td>8.007665e+06</td>\n",
       "      <td>9.789761e+06</td>\n",
       "      <td>7.711895e+06</td>\n",
       "    </tr>\n",
       "    <tr>\n",
       "      <th>7</th>\n",
       "      <td>subalpine</td>\n",
       "      <td>31</td>\n",
       "      <td>877</td>\n",
       "      <td>917900</td>\n",
       "      <td>17530000</td>\n",
       "      <td>1.928997e+07</td>\n",
       "      <td>2.393389e+07</td>\n",
       "      <td>1.859771e+07</td>\n",
       "    </tr>\n",
       "    <tr>\n",
       "      <th>8</th>\n",
       "      <td>volcano</td>\n",
       "      <td>167</td>\n",
       "      <td>1909</td>\n",
       "      <td>88120</td>\n",
       "      <td>424300</td>\n",
       "      <td>5.433881e+05</td>\n",
       "      <td>7.854054e+05</td>\n",
       "      <td>5.270348e+05</td>\n",
       "    </tr>\n",
       "    <tr>\n",
       "      <th>9</th>\n",
       "      <td>lanai</td>\n",
       "      <td>123</td>\n",
       "      <td>2253</td>\n",
       "      <td>41210</td>\n",
       "      <td>165800</td>\n",
       "      <td>1.979027e+05</td>\n",
       "      <td>2.714987e+05</td>\n",
       "      <td>1.987506e+05</td>\n",
       "    </tr>\n",
       "    <tr>\n",
       "      <th>10</th>\n",
       "      <td>kohala</td>\n",
       "      <td>240</td>\n",
       "      <td>6048</td>\n",
       "      <td>87170</td>\n",
       "      <td>339500</td>\n",
       "      <td>4.047878e+05</td>\n",
       "      <td>5.402538e+05</td>\n",
       "      <td>4.137494e+05</td>\n",
       "    </tr>\n",
       "    <tr>\n",
       "      <th>11</th>\n",
       "      <td>molokai</td>\n",
       "      <td>178</td>\n",
       "      <td>3865</td>\n",
       "      <td>102200</td>\n",
       "      <td>413500</td>\n",
       "      <td>5.806227e+05</td>\n",
       "      <td>7.678886e+05</td>\n",
       "      <td>5.764704e+05</td>\n",
       "    </tr>\n",
       "    <tr>\n",
       "      <th>12</th>\n",
       "      <td>kauai</td>\n",
       "      <td>158</td>\n",
       "      <td>1922</td>\n",
       "      <td>46470</td>\n",
       "      <td>137900</td>\n",
       "      <td>2.300655e+05</td>\n",
       "      <td>3.335742e+05</td>\n",
       "      <td>2.268200e+05</td>\n",
       "    </tr>\n",
       "    <tr>\n",
       "      <th>13</th>\n",
       "      <td>invertebrates</td>\n",
       "      <td>11</td>\n",
       "      <td>414</td>\n",
       "      <td>2541</td>\n",
       "      <td>5550</td>\n",
       "      <td>8.666407e+03</td>\n",
       "      <td>1.170594e+04</td>\n",
       "      <td>9.573673e+03</td>\n",
       "    </tr>\n",
       "  </tbody>\n",
       "</table>\n",
       "</div>"
      ],
      "text/plain": [
       "             site    S       N         E          B         pBnum  \\\n",
       "0             bci  305  229000  19750000  266500000  3.585610e+08   \n",
       "1          cocoli  154    6823   1269000   21920000  1.631427e+07   \n",
       "2         sherman  200    8249    943400   10760000  1.013601e+07   \n",
       "3           pasoh  802  321539  20452000  220647000  2.898457e+08   \n",
       "4            ucsc   31    8376   9001000  193300000  3.043935e+08   \n",
       "5          vision   27    1844   3004000  107490000  8.718301e+07   \n",
       "6         bayview   16     486    406800    7642000  8.007665e+06   \n",
       "7       subalpine   31     877    917900   17530000  1.928997e+07   \n",
       "8         volcano  167    1909     88120     424300  5.433881e+05   \n",
       "9           lanai  123    2253     41210     165800  1.979027e+05   \n",
       "10         kohala  240    6048     87170     339500  4.047878e+05   \n",
       "11        molokai  178    3865    102200     413500  5.806227e+05   \n",
       "12          kauai  158    1922     46470     137900  2.300655e+05   \n",
       "13  invertebrates   11     414      2541       5550  8.666407e+03   \n",
       "\n",
       "             pB0           pB1  \n",
       "0   3.760096e+08  3.527619e+08  \n",
       "1   1.944086e+07  1.583281e+07  \n",
       "2   1.219405e+07  9.864067e+06  \n",
       "3   3.105346e+08  2.861948e+08  \n",
       "4   3.247696e+08  2.953824e+08  \n",
       "5   9.984000e+07  8.434560e+07  \n",
       "6   9.789761e+06  7.711895e+06  \n",
       "7   2.393389e+07  1.859771e+07  \n",
       "8   7.854054e+05  5.270348e+05  \n",
       "9   2.714987e+05  1.987506e+05  \n",
       "10  5.402538e+05  4.137494e+05  \n",
       "11  7.678886e+05  5.764704e+05  \n",
       "12  3.335742e+05  2.268200e+05  \n",
       "13  1.170594e+04  9.573673e+03  "
      ]
     },
     "execution_count": 6,
     "metadata": {},
     "output_type": "execute_result"
    }
   ],
   "source": [
    "data"
   ]
  },
  {
   "cell_type": "code",
   "execution_count": 7,
   "id": "8fba5ad7",
   "metadata": {},
   "outputs": [],
   "source": [
    "# To save\n",
    "data.to_csv('data_biomass.txt',index=False)"
   ]
  },
  {
   "cell_type": "markdown",
   "id": "2ee8e985",
   "metadata": {},
   "source": [
    "## Some goodness of prediction tests"
   ]
  },
  {
   "cell_type": "code",
   "execution_count": 11,
   "id": "5402313f",
   "metadata": {},
   "outputs": [
    {
     "name": "stdout",
     "output_type": "stream",
     "text": [
      "Numerical\n"
     ]
    },
    {
     "data": {
      "text/plain": [
       "0     1.345445\n",
       "1     0.744264\n",
       "2     0.942008\n",
       "3     1.313617\n",
       "4     1.574721\n",
       "5     0.811080\n",
       "6     1.047849\n",
       "7     1.100398\n",
       "8     1.280669\n",
       "9     1.193623\n",
       "10    1.192306\n",
       "11    1.404166\n",
       "12    1.668350\n",
       "13    1.561515\n",
       "dtype: float64"
      ]
     },
     "metadata": {},
     "output_type": "display_data"
    },
    {
     "name": "stdout",
     "output_type": "stream",
     "text": [
      "Ratio: 1.23 pm 0.28\n",
      "\n",
      "Zeroth order\n"
     ]
    },
    {
     "data": {
      "text/plain": [
       "0     1.410918\n",
       "1     0.886901\n",
       "2     1.133276\n",
       "3     1.407382\n",
       "4     1.680132\n",
       "5     0.928831\n",
       "6     1.281047\n",
       "7     1.365310\n",
       "8     1.851061\n",
       "9     1.637507\n",
       "10    1.591322\n",
       "11    1.857046\n",
       "12    2.418958\n",
       "13    2.109179\n",
       "dtype: float64"
      ]
     },
     "metadata": {},
     "output_type": "display_data"
    },
    {
     "name": "stdout",
     "output_type": "stream",
     "text": [
      "Ratio: 1.54 pm 0.43\n",
      "\n",
      "First order\n"
     ]
    },
    {
     "data": {
      "text/plain": [
       "0     1.323685\n",
       "1     0.722300\n",
       "2     0.916735\n",
       "3     1.297071\n",
       "4     1.528103\n",
       "5     0.784683\n",
       "6     1.009146\n",
       "7     1.060908\n",
       "8     1.242128\n",
       "9     1.198737\n",
       "10    1.218702\n",
       "11    1.394124\n",
       "12    1.644815\n",
       "13    1.724986\n",
       "dtype: float64"
      ]
     },
     "metadata": {},
     "output_type": "display_data"
    },
    {
     "name": "stdout",
     "output_type": "stream",
     "text": [
      "Ratio: 1.22 pm 0.30\n",
      "\n"
     ]
    }
   ],
   "source": [
    "# How close is this to data? \n",
    "print(\"Numerical\")\n",
    "ratio = data['pBnum']/data['B']\n",
    "display(ratio)\n",
    "print('Ratio: {:.2f} pm {:.2f}'.format(ratio.mean(),ratio.std()))\n",
    "print()\n",
    "print(\"Zeroth order\")\n",
    "ratio0 = data['pB0']/data['B']\n",
    "display(ratio0)\n",
    "print('Ratio: {:.2f} pm {:.2f}'.format(ratio0.mean(),ratio0.std()))\n",
    "print()\n",
    "print(\"First order\")\n",
    "ratio1 = data['pB1']/data['B']\n",
    "display(ratio1)\n",
    "print('Ratio: {:.2f} pm {:.2f}'.format(ratio1.mean(),ratio1.std()))\n",
    "print()"
   ]
  },
  {
   "cell_type": "markdown",
   "id": "10d58625",
   "metadata": {},
   "source": [
    "## Some goodness of approximation tests"
   ]
  },
  {
   "cell_type": "code",
   "execution_count": 13,
   "id": "fa0c14d7",
   "metadata": {},
   "outputs": [
    {
     "name": "stdout",
     "output_type": "stream",
     "text": [
      "Zeroth order\n"
     ]
    },
    {
     "data": {
      "text/plain": [
       "0     0.048663\n",
       "1     0.191648\n",
       "2     0.203042\n",
       "3     0.071379\n",
       "4     0.066940\n",
       "5     0.145177\n",
       "6     0.222549\n",
       "7     0.240743\n",
       "8     0.445386\n",
       "9     0.371880\n",
       "10    0.334659\n",
       "11    0.322526\n",
       "12    0.449910\n",
       "13    0.350726\n",
       "dtype: float64"
      ]
     },
     "metadata": {},
     "output_type": "display_data"
    },
    {
     "name": "stdout",
     "output_type": "stream",
     "text": [
      "Percent: 0.25 pm 0.14\n",
      "\n",
      "First order\n"
     ]
    },
    {
     "data": {
      "text/plain": [
       "0    -0.016173\n",
       "1    -0.029512\n",
       "2    -0.026829\n",
       "3    -0.012596\n",
       "4    -0.029604\n",
       "5    -0.032545\n",
       "6    -0.036936\n",
       "7    -0.035887\n",
       "8    -0.030095\n",
       "9     0.004285\n",
       "10    0.022139\n",
       "11   -0.007152\n",
       "12   -0.014107\n",
       "13    0.104688\n",
       "dtype: float64"
      ]
     },
     "metadata": {},
     "output_type": "display_data"
    },
    {
     "name": "stdout",
     "output_type": "stream",
     "text": [
      "Percent: -0.01 pm 0.04\n",
      "\n"
     ]
    }
   ],
   "source": [
    "# For each data, how good is the zeroth order and first order prediction compared to the numerical test?\n",
    "print(\"Zeroth order\")\n",
    "frac0 = (data['pB0']-data['pBnum'])/data['pBnum']\n",
    "display(frac0)\n",
    "print('Percent: {:.2f} pm {:.2f}'.format(frac0.mean(),frac0.std()))\n",
    "print()\n",
    "print(\"First order\")\n",
    "frac1 = (data['pB1']-data['pBnum'])/data['pBnum']\n",
    "display(frac1)\n",
    "print('Percent: {:.2f} pm {:.2f}'.format(frac1.mean(),frac1.std()))\n",
    "print()"
   ]
  },
  {
   "cell_type": "code",
   "execution_count": null,
   "id": "ca74301a",
   "metadata": {},
   "outputs": [],
   "source": []
  }
 ],
 "metadata": {
  "kernelspec": {
   "display_name": "Python 3",
   "language": "python",
   "name": "python3"
  },
  "language_info": {
   "codemirror_mode": {
    "name": "ipython",
    "version": 3
   },
   "file_extension": ".py",
   "mimetype": "text/x-python",
   "name": "python",
   "nbconvert_exporter": "python",
   "pygments_lexer": "ipython3",
   "version": "3.6.13"
  }
 },
 "nbformat": 4,
 "nbformat_minor": 5
}
